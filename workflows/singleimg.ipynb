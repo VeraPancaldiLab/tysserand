{
 "cells": [
  {
   "cell_type": "markdown",
   "metadata": {},
   "source": [
    "*tysserand* includes functions to help using [napari](https://napari.org/) for interactive image and network visualization and annotation.  \n",
    "Thanks to napari you can zoom, pan and hide or change the intensity of individual channels.  \n",
    "We define the ground truth of network of the multiplex Immuno Fluorescence image.  \n",
    "We start with a Delaunay reconstruction, then we manually add and delete some edges.  "
   ]
  },
  {
   "cell_type": "code",
   "execution_count": null,
   "metadata": {},
   "outputs": [],
   "source": [
    "import numpy as np\n",
    "import pandas as pd\n",
    "import matplotlib.pyplot as plt\n",
    "import os\n",
    "from pathlib import Path\n",
    "from tysserand import tysserand as ty\n",
    "from PIL import Image\n",
    "Image.MAX_IMAGE_PIXELS = 1000000000 \n"
   ]
  },
  {
   "cell_type": "markdown",
   "metadata": {},
   "source": [
    "# Interactive networks visualization and annotation"
   ]
  },
  {
   "cell_type": "code",
   "execution_count": null,
   "metadata": {},
   "outputs": [],
   "source": [
    "# where we save and load annotations\n",
    "data_dir = Path(\"/home/mouneem/Projects/tysserand/tysserand/new_data/\")"
   ]
  },
  {
   "cell_type": "markdown",
   "metadata": {},
   "source": [
    "## Delaunay triangulation"
   ]
  },
  {
   "cell_type": "code",
   "execution_count": null,
   "metadata": {},
   "outputs": [],
   "source": [
    "nodes = pd.read_csv(data_dir / 'min15T011146_80032.fcs.csv', usecols=['x','y', 'class'])\n",
    "print(len(nodes))\n",
    "#nodes = nodes.sample(n = round(len(nodes) / 2) )\n",
    "print(len(nodes))\n"
   ]
  },
  {
   "cell_type": "code",
   "execution_count": null,
   "metadata": {},
   "outputs": [],
   "source": [
    "## Adjust\n",
    "img = plt.imread(data_dir / \"4518.tiff\")\n",
    "\n",
    "from PIL import Image, ImageOps\n",
    "#img = ImageOps.grayscale(img)\n",
    "\n",
    "coords = nodes.loc[:,['x','y']].values\n",
    "\n",
    "class_colors = ['#F85446', '#813FE0', '#52DEF7', '#62E03F', '#FFCE36', '#FA6C17',\n",
    "               '#D805E3', '#0155FA', '#0BE35B', '#FFF117', '#DDFF7D', '#78E3C8']\n",
    "classes = list(nodes['class'].unique())\n",
    "print(classes)\n",
    "dico_col = {classes[0]:class_colors[0],\n",
    "            classes[1]:class_colors[1],\n",
    "            classes[2]:class_colors[2],\n",
    "            classes[3]:class_colors[3],\n",
    "            classes[4]:class_colors[4],\n",
    "            classes[5]:class_colors[5],\n",
    "            classes[6]:class_colors[6],\n",
    "           }\n",
    "colors = []\n",
    "for cl in nodes['class']:\n",
    "    colors.append(dico_col[cl])\n",
    "    \n",
    "\n",
    "    \n",
    "    \n",
    "min_x = min(coords[:, 0])\n",
    "min_y = min(coords[:, 1])\n",
    "\n",
    "max_x = max(coords[:, 0])\n",
    "max_y = max(coords[:, 1])\n",
    "\n",
    "\n",
    "print(min_x, min_y)\n",
    "\n",
    "import cv2\n",
    "#img = cv2.flip(img, 0)\n",
    "\n"
   ]
  },
  {
   "cell_type": "markdown",
   "metadata": {},
   "source": [
    "We first load existing nodes annotations. For each cell type we define a node color, then we define a first version of edges with the delaunay triangulation method."
   ]
  },
  {
   "cell_type": "code",
   "execution_count": null,
   "metadata": {},
   "outputs": [],
   "source": [
    "import numpy\n",
    "\n",
    "coords2 = coords\n",
    "\n",
    "\n",
    "#coords2[:, 0] = coords2[:, 0] - 5600\n",
    "#coords2[:, 1] = coords2[:, 1] - 18500\n",
    "\n",
    "coords_x_diff = max(coords2[:, 0]) - min(coords2[:, 0])\n",
    "coords_y_diff = max(coords2[:, 1]) - min(coords2[:, 1])\n",
    "\n",
    "print(coords_x_diff , coords_y_diff)\n",
    "\n",
    "img2 = img\n",
    "#img2 = cv2.resize(img, (coords_x_diff , coords_y_diff)) \n",
    "[h, w] = img.shape\n",
    "ratio_x = h / coords_x_diff\n",
    "ratio_y = w / coords_y_diff\n",
    "#print(ratio_x, ratio_y)"
   ]
  },
  {
   "cell_type": "code",
   "execution_count": null,
   "metadata": {},
   "outputs": [],
   "source": [
    "fig, ax = ty.showim(img2, figsize=(150, 150))\n",
    "\n",
    "ratio = 1\n",
    "ratio = 0.1\n",
    "\n",
    "plt.grid()\n",
    "\n",
    "#pairs = ty.build_delaunay(coords2)\n",
    "#distances = ty.distance_neighbors(coords2, pairs)\n",
    "col_nodes = colors\n",
    "ax.scatter(coords2[:,0] * ratio, coords2[:,1] * ratio, c=col_nodes,  zorder=10, s = 1)\n",
    "\n",
    "\n"
   ]
  },
  {
   "cell_type": "code",
   "execution_count": null,
   "metadata": {},
   "outputs": [],
   "source": [
    "coords = coords2\n",
    "fig, ax = ty.showim(img2, figsize=(200, 200))\n",
    "\n",
    "\n",
    "pairs = ty.build_delaunay(coords)\n",
    "distances = ty.distance_neighbors(coords, pairs)\n",
    "\n",
    "    \n",
    "# superimpose network to mIF image\n",
    "ty.plot_network(coords, pairs, col_nodes=colors, col_edges='w', ax=ax)\n"
   ]
  },
  {
   "cell_type": "markdown",
   "metadata": {},
   "source": [
    "## Napari-assisted annotations"
   ]
  },
  {
   "cell_type": "markdown",
   "metadata": {},
   "source": [
    "We use napari to hide channels or tweak their intensity. In the viewer we can add, move or delete points and edges that will be considered as nodes by *tysserand*. These data are stored as a `dictionnary` of annotations."
   ]
  },
  {
   "cell_type": "code",
   "execution_count": null,
   "metadata": {},
   "outputs": [],
   "source": [
    "import napari"
   ]
  },
  {
   "cell_type": "markdown",
   "metadata": {},
   "source": [
    "We load napari with independent layers for each channel:"
   ]
  },
  {
   "cell_type": "code",
   "execution_count": null,
   "metadata": {},
   "outputs": [],
   "source": [
    "viewer = napari.Viewer()\n",
    "ty.visualize(viewer, img, colormaps='rgb')"
   ]
  },
  {
   "cell_type": "markdown",
   "metadata": {},
   "source": [
    "We add nodes positions as annotations:"
   ]
  },
  {
   "cell_type": "markdown",
   "metadata": {},
   "source": [
    "nodes_coords: nb_nodes x 2 array  \n",
    "edges_coords: list of 2 x 2 arrays of length nb_edges"
   ]
  },
  {
   "cell_type": "code",
   "execution_count": null,
   "metadata": {},
   "outputs": [],
   "source": [
    "# make colors for nodes\n",
    "#                 orange      blue      green\n",
    "    \n",
    "annotations = ty.make_annotation_dict(\n",
    "    coords, pairs=pairs,\n",
    "    nodes_class=nodes['marker'],\n",
    "    nodes_class_color_mapper=dico_col,\n",
    ")"
   ]
  },
  {
   "cell_type": "code",
   "execution_count": null,
   "metadata": {},
   "outputs": [],
   "source": [
    "ty.add_annotations(viewer, annotations)\n"
   ]
  },
  {
   "cell_type": "markdown",
   "metadata": {},
   "source": [
    "Now you can inspect annotations and manually remove, modify or add nodes and edges.  \n",
    "Select the right layer first (nodes or edges), and if you want to add nodes, select the apropriate `face color` that will be considered as a cell type indication. To do so select first an existing node with the desired color and copy the color code before creating a new node."
   ]
  },
  {
   "cell_type": "markdown",
   "metadata": {},
   "source": [
    "If you have added edges, to match their manually defined positions to their respective nodes and exact nodes positions *tysserand* provides an utility:"
   ]
  },
  {
   "cell_type": "code",
   "execution_count": null,
   "metadata": {},
   "outputs": [],
   "source": [
    "# get annotation layers names\n",
    "layer_nodes_name, layer_edges_name = ty.get_annotation_names(viewer)\n",
    "# get modified annotations\n",
    "annotations = ty.get_annotation_dict(viewer, layer_nodes_name, layer_edges_name)\n",
    "# clean edges positions\n",
    "new_edges, pairs = ty.assign_nodes_to_edges(annotations['nodes_coords'], annotations['edges_coords'])\n",
    "annotations['edges_coords'] = new_edges\n",
    "annotations['pairs'] = pairs"
   ]
  },
  {
   "cell_type": "markdown",
   "metadata": {},
   "source": [
    "You can now display the corrected edges with:"
   ]
  },
  {
   "cell_type": "code",
   "execution_count": null,
   "metadata": {},
   "outputs": [],
   "source": [
    "ty.update_edges(viewer, annotations)"
   ]
  },
  {
   "cell_type": "markdown",
   "metadata": {},
   "source": [
    "You can finally save annotations with:"
   ]
  },
  {
   "cell_type": "code",
   "execution_count": null,
   "metadata": {},
   "outputs": [],
   "source": [
    "ty.save_annotations(data_dir / 'annotations.pkl', viewer=viewer)"
   ]
  },
  {
   "cell_type": "markdown",
   "metadata": {},
   "source": [
    "If you want to reuse annotations:"
   ]
  },
  {
   "cell_type": "code",
   "execution_count": null,
   "metadata": {},
   "outputs": [],
   "source": [
    "annotations = ty.load_annotations(data_dir / 'annotations.pkl')\n",
    "\n",
    "viewer = napari.Viewer()\n",
    "ty.visualize(viewer, img, colormaps='rgb')\n",
    "ty.add_annotations(viewer, annotations)"
   ]
  },
  {
   "cell_type": "markdown",
   "metadata": {},
   "source": [
    "# "
   ]
  }
 ],
 "metadata": {
  "interpreter": {
   "hash": "0746f5b2c01e958414395754882cf6092b13870828f8e16bc72ea4cedeeea844"
  },
  "kernelspec": {
   "display_name": "Python 3 (ipykernel)",
   "language": "python",
   "name": "python3"
  },
  "language_info": {
   "codemirror_mode": {
    "name": "ipython",
    "version": 3
   },
   "file_extension": ".py",
   "mimetype": "text/x-python",
   "name": "python",
   "nbconvert_exporter": "python",
   "pygments_lexer": "ipython3",
   "version": "3.8.10"
  }
 },
 "nbformat": 4,
 "nbformat_minor": 4
}
