{
 "cells": [
  {
   "cell_type": "markdown",
   "metadata": {},
   "source": [
    "# 3D networks reconstruction"
   ]
  },
  {
   "cell_type": "markdown",
   "metadata": {},
   "source": [
    "*tysserand* can also reconstruct 3D networks."
   ]
  },
  {
   "cell_type": "code",
   "execution_count": 1,
   "metadata": {},
   "outputs": [],
   "source": [
    "import numpy as np\n",
    "import pandas as pd\n",
    "import matplotlib.pyplot as plt\n",
    "import napari\n",
    "from skimage import measure, filters, data\n",
    "from tysserand import tysserand as ty"
   ]
  },
  {
   "cell_type": "markdown",
   "metadata": {},
   "source": [
    "## Make a 3D simulated image"
   ]
  },
  {
   "cell_type": "code",
   "execution_count": 2,
   "metadata": {},
   "outputs": [],
   "source": [
    "# Generate some test data (smooth 3D blob shapes)\n",
    "np.random.seed(0)\n",
    "imgarray = filters.gaussian(np.squeeze(np.stack([data.binary_blobs(length=300, n_dim=3, blob_size_fraction=0.1, volume_fraction=0.01)[:, 0:256, 0:256]])).astype(float), sigma=(2.5, 2.5, 2.5))"
   ]
  },
  {
   "cell_type": "code",
   "execution_count": 3,
   "metadata": {},
   "outputs": [],
   "source": [
    "# Open viewer (Qt window) with axes = slice, row, column\n",
    "viewer = napari.Viewer(title='volume test', ndisplay=3)\n",
    "# viewer.add_image(data=imgarray, name='blobs', scale=[256/300, 1, 1], rendering='attenuated_mip', attenuation=2.0, contrast_limits=(0.25, 1))\n",
    "viewer.add_image(data=imgarray, name='blobs', rendering='attenuated_mip', attenuation=2.0);"
   ]
  },
  {
   "cell_type": "markdown",
   "metadata": {},
   "source": [
    "We need to define a binary mask related to \"segmented\" objects, let's inspect intensities first:"
   ]
  },
  {
   "cell_type": "code",
   "execution_count": 4,
   "metadata": {},
   "outputs": [
    {
     "data": {
      "image/png": "[encoded data removed]",
      "text/plain": [
       "<Figure size 432x288 with 1 Axes>"
      ]
     },
     "metadata": {
      "needs_background": "light"
     },
     "output_type": "display_data"
    }
   ],
   "source": [
    "plt.hist(imgarray.ravel(), bins=50);"
   ]
  },
  {
   "cell_type": "code",
   "execution_count": 5,
   "metadata": {},
   "outputs": [],
   "source": [
    "masks = measure.label(imgarray>0.1, background=0)"
   ]
  },
  {
   "cell_type": "markdown",
   "metadata": {},
   "source": [
    "## Delaunay triangulation"
   ]
  },
  {
   "cell_type": "code",
   "execution_count": 6,
   "metadata": {},
   "outputs": [],
   "source": [
    "coords = ty.mask_val_coord(masks)[['x', 'y', 'z']].values\n",
    "pairs = ty.build_delaunay(coords)\n",
    "# coords, pairs = ty.refactor_coords_pairs(coords, pairs)\n",
    "distances = ty.distance_neighbors(coords, pairs)"
   ]
  },
  {
   "cell_type": "code",
   "execution_count": 7,
   "metadata": {},
   "outputs": [],
   "source": [
    "nodes = ty.coords_to_df(coords)\n",
    "edges = ty.pairs_to_df(pairs)"
   ]
  },
  {
   "cell_type": "code",
   "execution_count": 8,
   "metadata": {},
   "outputs": [
    {
     "data": {
      "text/html": [
       "<div>\n",
       "<style scoped>\n",
       "    .dataframe tbody tr th:only-of-type {\n",
       "        vertical-align: middle;\n",
       "    }\n",
       "\n",
       "    .dataframe tbody tr th {\n",
       "        vertical-align: top;\n",
       "    }\n",
       "\n",
       "    .dataframe thead th {\n",
       "        text-align: right;\n",
       "    }\n",
       "</style>\n",
       "<table border=\"1\" class=\"dataframe\">\n",
       "  <thead>\n",
       "    <tr style=\"text-align: right;\">\n",
       "      <th></th>\n",
       "      <th>x</th>\n",
       "      <th>y</th>\n",
       "      <th>z</th>\n",
       "      <th>cell_type</th>\n",
       "      <th>marker</th>\n",
       "    </tr>\n",
       "  </thead>\n",
       "  <tbody>\n",
       "    <tr>\n",
       "      <th>0</th>\n",
       "      <td>100.841615</td>\n",
       "      <td>39.957887</td>\n",
       "      <td>4.894771</td>\n",
       "      <td>stromal</td>\n",
       "      <td>CD8</td>\n",
       "    </tr>\n",
       "    <tr>\n",
       "      <th>1</th>\n",
       "      <td>72.622107</td>\n",
       "      <td>31.288009</td>\n",
       "      <td>10.086823</td>\n",
       "      <td>cancer</td>\n",
       "      <td>CD4</td>\n",
       "    </tr>\n",
       "    <tr>\n",
       "      <th>2</th>\n",
       "      <td>180.396258</td>\n",
       "      <td>51.658628</td>\n",
       "      <td>4.636175</td>\n",
       "      <td>stromal</td>\n",
       "      <td>PDL-1</td>\n",
       "    </tr>\n",
       "    <tr>\n",
       "      <th>3</th>\n",
       "      <td>7.099235</td>\n",
       "      <td>150.051396</td>\n",
       "      <td>5.142984</td>\n",
       "      <td>cancer</td>\n",
       "      <td>PDL-1</td>\n",
       "    </tr>\n",
       "    <tr>\n",
       "      <th>4</th>\n",
       "      <td>6.494898</td>\n",
       "      <td>253.908163</td>\n",
       "      <td>1.704082</td>\n",
       "      <td>cancer</td>\n",
       "      <td>PDL-1</td>\n",
       "    </tr>\n",
       "  </tbody>\n",
       "</table>\n",
       "</div>"
      ],
      "text/plain": [
       "            x           y          z cell_type marker\n",
       "0  100.841615   39.957887   4.894771   stromal    CD8\n",
       "1   72.622107   31.288009  10.086823    cancer    CD4\n",
       "2  180.396258   51.658628   4.636175   stromal  PDL-1\n",
       "3    7.099235  150.051396   5.142984    cancer  PDL-1\n",
       "4    6.494898  253.908163   1.704082    cancer  PDL-1"
      ]
     },
     "execution_count": 8,
     "metadata": {},
     "output_type": "execute_result"
    }
   ],
   "source": [
    "# enable multimodalities per node:\n",
    "MULTI_MOD = False\n",
    "\n",
    "# it's set at random, don't expect biological insight!\n",
    "attributes = {'cell_type':['stromal', 'cancer', 'immune'],\n",
    "              'marker':['PanCK', 'CD8', 'CD4', 'PDL-1', 'CTLA-4']}\n",
    "\n",
    "nodes_att = pd.DataFrame(data=None, index=np.arange(coords.shape[0]))\n",
    "\n",
    "if MULTI_MOD:\n",
    "    for att_name, att_mod in attributes.items():\n",
    "        att_val = np.random.randint(0, 2, size=(coords.shape[0],len(att_mod))).astype(bool)\n",
    "        nodes_att = nodes_att.join(pd.DataFrame(att_val, columns=att_mod))\n",
    "else:\n",
    "    for att_name, att_mod in attributes.items():\n",
    "        att_val = np.random.choice(att_mod, coords.shape[0])\n",
    "        nodes_att = nodes_att.join(pd.DataFrame(att_val, columns=[att_name]))\n",
    "nodes = nodes.join(nodes_att)\n",
    "nodes.head()"
   ]
  },
  {
   "cell_type": "code",
   "execution_count": 9,
   "metadata": {},
   "outputs": [],
   "source": [
    "# make colors for nodes\n",
    "#                 orange      blue      green\n",
    "class_colors = ['#ff7f0e', '#1f77b4', '#2ca02c']\n",
    "classes = list(nodes['cell_type'].unique())\n",
    "dico_col = {classes[0]:class_colors[0],\n",
    "            classes[1]:class_colors[1],\n",
    "            classes[2]:class_colors[2]}\n",
    "colors = []\n",
    "for cl in nodes['cell_type']:\n",
    "    colors.append(dico_col[cl])"
   ]
  },
  {
   "cell_type": "markdown",
   "metadata": {},
   "source": [
    "## Napari 3D network visualization"
   ]
  },
  {
   "cell_type": "code",
   "execution_count": 10,
   "metadata": {},
   "outputs": [],
   "source": [
    "annotations = ty.make_annotation_dict(\n",
    "    coords, pairs=pairs,\n",
    "    nodes_class=nodes['cell_type'],\n",
    "    nodes_class_color_mapper=dico_col,\n",
    ")"
   ]
  },
  {
   "cell_type": "code",
   "execution_count": 11,
   "metadata": {},
   "outputs": [],
   "source": [
    "ty.add_annotations(viewer, annotations)"
   ]
  },
  {
   "cell_type": "code",
   "execution_count": 12,
   "metadata": {},
   "outputs": [],
   "source": [
    "# Uncomment to save annotations:\n",
    "# ty.save_annotations('3d_annotations.pkl', viewer=viewer)"
   ]
  },
  {
   "cell_type": "markdown",
   "metadata": {},
   "source": [
    "## Other reconstruction methods"
   ]
  },
  {
   "cell_type": "markdown",
   "metadata": {},
   "source": [
    "The 3D (actually N-D) network reconstruction works for other methods!"
   ]
  },
  {
   "cell_type": "markdown",
   "metadata": {},
   "source": [
    "### k-nearest neighbors reconstruction"
   ]
  },
  {
   "cell_type": "code",
   "execution_count": 13,
   "metadata": {},
   "outputs": [],
   "source": [
    "pairs = ty.build_knn(coords, k=6)"
   ]
  },
  {
   "cell_type": "code",
   "execution_count": 14,
   "metadata": {},
   "outputs": [],
   "source": [
    "annotations = ty.make_annotation_dict(\n",
    "    coords, pairs=pairs,\n",
    "    nodes_class=nodes['cell_type'],\n",
    "    nodes_class_color_mapper=dico_col,\n",
    ")"
   ]
  },
  {
   "cell_type": "code",
   "execution_count": 15,
   "metadata": {},
   "outputs": [],
   "source": [
    "ty.update_edges(viewer, annotations)"
   ]
  },
  {
   "cell_type": "markdown",
   "metadata": {},
   "source": [
    "### Contacting areas reconstruction"
   ]
  },
  {
   "cell_type": "markdown",
   "metadata": {},
   "source": [
    "3D network reconstruction is pretty slow now, I'm working on a solution, coming soon!"
   ]
  }
 ],
 "metadata": {
  "interpreter": {
   "hash": "bebdacfe3cf503121323af2a77294bf7c7413e910c58f88ede5a0b11d610478c"
  },
  "kernelspec": {
   "display_name": "spatial-networks",
   "language": "python",
   "name": "python3"
  },
  "language_info": {
   "codemirror_mode": {
    "name": "ipython",
    "version": 3
   },
   "file_extension": ".py",
   "mimetype": "text/x-python",
   "name": "python",
   "nbconvert_exporter": "python",
   "pygments_lexer": "ipython3",
   "version": "3.8.10"
  }
 },
 "nbformat": 4,
 "nbformat_minor": 4
}
